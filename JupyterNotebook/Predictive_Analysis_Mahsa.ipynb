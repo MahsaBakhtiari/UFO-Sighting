{
 "cells": [
  {
   "cell_type": "markdown",
   "id": "8be7b20e",
   "metadata": {},
   "source": [
    "# Training a model to predict shape based on time and space\n",
    "$Mahsa Bakhtiari$\n",
    "\n",
    "I queried the database for dates that had more that 10 reports and was been reported from more than two countries. then trained a decision tree model to see if there is a distinct pattern between the spacetime of the sightings and the reported time."
   ]
  },
  {
   "cell_type": "code",
   "execution_count": 1,
   "id": "d1bf3dd1",
   "metadata": {},
   "outputs": [],
   "source": [
    "from datetime import datetime\n",
    "import pandas as pd\n",
    "import sklearn"
   ]
  },
  {
   "cell_type": "code",
   "execution_count": 2,
   "id": "1720dd10",
   "metadata": {},
   "outputs": [],
   "source": [
    "data = pd.read_csv('./Resources/data.csv', index_col='Unnamed: 0')"
   ]
  },
  {
   "cell_type": "code",
   "execution_count": 3,
   "id": "2da9a526",
   "metadata": {},
   "outputs": [
    {
     "data": {
      "text/html": [
       "<div>\n",
       "<style scoped>\n",
       "    .dataframe tbody tr th:only-of-type {\n",
       "        vertical-align: middle;\n",
       "    }\n",
       "\n",
       "    .dataframe tbody tr th {\n",
       "        vertical-align: top;\n",
       "    }\n",
       "\n",
       "    .dataframe thead th {\n",
       "        text-align: right;\n",
       "    }\n",
       "</style>\n",
       "<table border=\"1\" class=\"dataframe\">\n",
       "  <thead>\n",
       "    <tr style=\"text-align: right;\">\n",
       "      <th></th>\n",
       "      <th>timestamp</th>\n",
       "      <th>duration (seconds)</th>\n",
       "      <th>city</th>\n",
       "      <th>state</th>\n",
       "      <th>country</th>\n",
       "      <th>latitude</th>\n",
       "      <th>longitude</th>\n",
       "      <th>shape</th>\n",
       "      <th>comments</th>\n",
       "    </tr>\n",
       "  </thead>\n",
       "  <tbody>\n",
       "    <tr>\n",
       "      <th>0</th>\n",
       "      <td>1949-10-10 20:30:00</td>\n",
       "      <td>2700</td>\n",
       "      <td>san marcos</td>\n",
       "      <td>tx</td>\n",
       "      <td>us</td>\n",
       "      <td>29.883056</td>\n",
       "      <td>-97.941111</td>\n",
       "      <td>cylinder</td>\n",
       "      <td>This event took place in early fall around 194...</td>\n",
       "    </tr>\n",
       "    <tr>\n",
       "      <th>3</th>\n",
       "      <td>1956-10-10 21:00:00</td>\n",
       "      <td>20</td>\n",
       "      <td>edna</td>\n",
       "      <td>tx</td>\n",
       "      <td>us</td>\n",
       "      <td>28.978333</td>\n",
       "      <td>-96.645833</td>\n",
       "      <td>circle</td>\n",
       "      <td>My older brother and twin sister were leaving ...</td>\n",
       "    </tr>\n",
       "  </tbody>\n",
       "</table>\n",
       "</div>"
      ],
      "text/plain": [
       "             timestamp  duration (seconds)        city state country  \\\n",
       "0  1949-10-10 20:30:00                2700  san marcos    tx      us   \n",
       "3  1956-10-10 21:00:00                  20        edna    tx      us   \n",
       "\n",
       "    latitude  longitude     shape  \\\n",
       "0  29.883056 -97.941111  cylinder   \n",
       "3  28.978333 -96.645833    circle   \n",
       "\n",
       "                                            comments  \n",
       "0  This event took place in early fall around 194...  \n",
       "3  My older brother and twin sister were leaving ...  "
      ]
     },
     "execution_count": 3,
     "metadata": {},
     "output_type": "execute_result"
    }
   ],
   "source": [
    "data.head(2)"
   ]
  },
  {
   "cell_type": "code",
   "execution_count": 4,
   "id": "c522ad85",
   "metadata": {},
   "outputs": [
    {
     "name": "stdout",
     "output_type": "stream",
     "text": [
      "<class 'pandas.core.frame.DataFrame'>\n",
      "Int64Index: 66516 entries, 0 to 80331\n",
      "Data columns (total 9 columns):\n",
      " #   Column              Non-Null Count  Dtype  \n",
      "---  ------              --------------  -----  \n",
      " 0   timestamp           66516 non-null  object \n",
      " 1   duration (seconds)  66516 non-null  int64  \n",
      " 2   city                66516 non-null  object \n",
      " 3   state               66516 non-null  object \n",
      " 4   country             66516 non-null  object \n",
      " 5   latitude            66516 non-null  float64\n",
      " 6   longitude           66516 non-null  float64\n",
      " 7   shape               66516 non-null  object \n",
      " 8   comments            66516 non-null  object \n",
      "dtypes: float64(2), int64(1), object(6)\n",
      "memory usage: 5.1+ MB\n"
     ]
    }
   ],
   "source": [
    "data.info()"
   ]
  },
  {
   "cell_type": "code",
   "execution_count": 5,
   "id": "b998527b",
   "metadata": {},
   "outputs": [],
   "source": [
    "data[\"timestamp\"] = pd.to_datetime(data[\"timestamp\"])"
   ]
  },
  {
   "cell_type": "code",
   "execution_count": 6,
   "id": "d54b7f9c",
   "metadata": {},
   "outputs": [],
   "source": [
    "data[\"date\"] = data[\"timestamp\"].map(lambda x: x.date())"
   ]
  },
  {
   "cell_type": "code",
   "execution_count": 7,
   "id": "95fefde8",
   "metadata": {},
   "outputs": [],
   "source": [
    "data[\"time\"] = data[\"timestamp\"].map(lambda x: x.time())"
   ]
  },
  {
   "cell_type": "code",
   "execution_count": 8,
   "id": "60bd2c4c",
   "metadata": {},
   "outputs": [
    {
     "data": {
      "text/html": [
       "<div>\n",
       "<style scoped>\n",
       "    .dataframe tbody tr th:only-of-type {\n",
       "        vertical-align: middle;\n",
       "    }\n",
       "\n",
       "    .dataframe tbody tr th {\n",
       "        vertical-align: top;\n",
       "    }\n",
       "\n",
       "    .dataframe thead th {\n",
       "        text-align: right;\n",
       "    }\n",
       "</style>\n",
       "<table border=\"1\" class=\"dataframe\">\n",
       "  <thead>\n",
       "    <tr style=\"text-align: right;\">\n",
       "      <th></th>\n",
       "      <th>timestamp</th>\n",
       "      <th>duration (seconds)</th>\n",
       "      <th>city</th>\n",
       "      <th>state</th>\n",
       "      <th>country</th>\n",
       "      <th>latitude</th>\n",
       "      <th>longitude</th>\n",
       "      <th>shape</th>\n",
       "      <th>comments</th>\n",
       "      <th>date</th>\n",
       "      <th>time</th>\n",
       "    </tr>\n",
       "  </thead>\n",
       "  <tbody>\n",
       "    <tr>\n",
       "      <th>0</th>\n",
       "      <td>1949-10-10 20:30:00</td>\n",
       "      <td>2700</td>\n",
       "      <td>san marcos</td>\n",
       "      <td>tx</td>\n",
       "      <td>us</td>\n",
       "      <td>29.883056</td>\n",
       "      <td>-97.941111</td>\n",
       "      <td>cylinder</td>\n",
       "      <td>This event took place in early fall around 194...</td>\n",
       "      <td>1949-10-10</td>\n",
       "      <td>20:30:00</td>\n",
       "    </tr>\n",
       "    <tr>\n",
       "      <th>3</th>\n",
       "      <td>1956-10-10 21:00:00</td>\n",
       "      <td>20</td>\n",
       "      <td>edna</td>\n",
       "      <td>tx</td>\n",
       "      <td>us</td>\n",
       "      <td>28.978333</td>\n",
       "      <td>-96.645833</td>\n",
       "      <td>circle</td>\n",
       "      <td>My older brother and twin sister were leaving ...</td>\n",
       "      <td>1956-10-10</td>\n",
       "      <td>21:00:00</td>\n",
       "    </tr>\n",
       "  </tbody>\n",
       "</table>\n",
       "</div>"
      ],
      "text/plain": [
       "            timestamp  duration (seconds)        city state country  \\\n",
       "0 1949-10-10 20:30:00                2700  san marcos    tx      us   \n",
       "3 1956-10-10 21:00:00                  20        edna    tx      us   \n",
       "\n",
       "    latitude  longitude     shape  \\\n",
       "0  29.883056 -97.941111  cylinder   \n",
       "3  28.978333 -96.645833    circle   \n",
       "\n",
       "                                            comments        date      time  \n",
       "0  This event took place in early fall around 194...  1949-10-10  20:30:00  \n",
       "3  My older brother and twin sister were leaving ...  1956-10-10  21:00:00  "
      ]
     },
     "execution_count": 8,
     "metadata": {},
     "output_type": "execute_result"
    }
   ],
   "source": [
    "data.head(2)"
   ]
  },
  {
   "cell_type": "code",
   "execution_count": 9,
   "id": "609b4e50",
   "metadata": {},
   "outputs": [],
   "source": [
    "target = data.groupby([\"date\"])[\"date\"].count()"
   ]
  },
  {
   "cell_type": "code",
   "execution_count": 10,
   "id": "cb354a47",
   "metadata": {},
   "outputs": [],
   "source": [
    "#target = pd.DataFrame(data=target, index=None).reset_index()\n",
    "target = target.loc[lambda x: x>10]"
   ]
  },
  {
   "cell_type": "code",
   "execution_count": 11,
   "id": "b9136913",
   "metadata": {},
   "outputs": [],
   "source": [
    "dates = target.index.tolist()"
   ]
  },
  {
   "cell_type": "code",
   "execution_count": 12,
   "id": "af6960c8",
   "metadata": {},
   "outputs": [
    {
     "data": {
      "text/html": [
       "<div>\n",
       "<style scoped>\n",
       "    .dataframe tbody tr th:only-of-type {\n",
       "        vertical-align: middle;\n",
       "    }\n",
       "\n",
       "    .dataframe tbody tr th {\n",
       "        vertical-align: top;\n",
       "    }\n",
       "\n",
       "    .dataframe thead th {\n",
       "        text-align: right;\n",
       "    }\n",
       "</style>\n",
       "<table border=\"1\" class=\"dataframe\">\n",
       "  <thead>\n",
       "    <tr style=\"text-align: right;\">\n",
       "      <th></th>\n",
       "      <th>timestamp</th>\n",
       "      <th>duration (seconds)</th>\n",
       "      <th>city</th>\n",
       "      <th>state</th>\n",
       "      <th>country</th>\n",
       "      <th>latitude</th>\n",
       "      <th>longitude</th>\n",
       "      <th>shape</th>\n",
       "      <th>comments</th>\n",
       "      <th>date</th>\n",
       "      <th>time</th>\n",
       "    </tr>\n",
       "  </thead>\n",
       "  <tbody>\n",
       "    <tr>\n",
       "      <th>46934</th>\n",
       "      <td>1963-06-01 00:00:00</td>\n",
       "      <td>900</td>\n",
       "      <td>cocoa</td>\n",
       "      <td>fl</td>\n",
       "      <td>us</td>\n",
       "      <td>28.385833</td>\n",
       "      <td>-80.742222</td>\n",
       "      <td>unknown</td>\n",
       "      <td>We are not alone&amp;#44  I swear it before God Al...</td>\n",
       "      <td>1963-06-01</td>\n",
       "      <td>00:00:00</td>\n",
       "    </tr>\n",
       "    <tr>\n",
       "      <th>46935</th>\n",
       "      <td>1963-06-01 02:00:00</td>\n",
       "      <td>300</td>\n",
       "      <td>st. louis county</td>\n",
       "      <td>mo</td>\n",
       "      <td>us</td>\n",
       "      <td>38.627222</td>\n",
       "      <td>-90.197778</td>\n",
       "      <td>cigar</td>\n",
       "      <td>Cigar shaped craft hovering over swimming pool...</td>\n",
       "      <td>1963-06-01</td>\n",
       "      <td>02:00:00</td>\n",
       "    </tr>\n",
       "    <tr>\n",
       "      <th>46936</th>\n",
       "      <td>1963-06-01 08:30:00</td>\n",
       "      <td>30</td>\n",
       "      <td>gonzales</td>\n",
       "      <td>tx</td>\n",
       "      <td>us</td>\n",
       "      <td>29.501389</td>\n",
       "      <td>-97.452222</td>\n",
       "      <td>cigar</td>\n",
       "      <td>Object was cigar shaped&amp;#44lights along side a...</td>\n",
       "      <td>1963-06-01</td>\n",
       "      <td>08:30:00</td>\n",
       "    </tr>\n",
       "    <tr>\n",
       "      <th>46937</th>\n",
       "      <td>1963-06-01 11:00:00</td>\n",
       "      <td>1200</td>\n",
       "      <td>albemarle</td>\n",
       "      <td>nc</td>\n",
       "      <td>us</td>\n",
       "      <td>35.350000</td>\n",
       "      <td>-80.200278</td>\n",
       "      <td>disk</td>\n",
       "      <td>outside playling &amp;#44neighbor starting yelling...</td>\n",
       "      <td>1963-06-01</td>\n",
       "      <td>11:00:00</td>\n",
       "    </tr>\n",
       "    <tr>\n",
       "      <th>46938</th>\n",
       "      <td>1963-06-01 12:00:00</td>\n",
       "      <td>300</td>\n",
       "      <td>houston</td>\n",
       "      <td>tx</td>\n",
       "      <td>us</td>\n",
       "      <td>29.763056</td>\n",
       "      <td>-95.363056</td>\n",
       "      <td>cigar</td>\n",
       "      <td>Cigar shaped UFO over north Houston&amp;#44&amp;#44  b...</td>\n",
       "      <td>1963-06-01</td>\n",
       "      <td>12:00:00</td>\n",
       "    </tr>\n",
       "    <tr>\n",
       "      <th>46939</th>\n",
       "      <td>1963-06-01 13:00:00</td>\n",
       "      <td>60</td>\n",
       "      <td>kirksey</td>\n",
       "      <td>ky</td>\n",
       "      <td>us</td>\n",
       "      <td>36.698611</td>\n",
       "      <td>-88.395278</td>\n",
       "      <td>triangle</td>\n",
       "      <td>Triangle shaped UFO seen in daytime in 1963 in...</td>\n",
       "      <td>1963-06-01</td>\n",
       "      <td>13:00:00</td>\n",
       "    </tr>\n",
       "    <tr>\n",
       "      <th>46940</th>\n",
       "      <td>1963-06-01 16:00:00</td>\n",
       "      <td>900</td>\n",
       "      <td>waukegan</td>\n",
       "      <td>il</td>\n",
       "      <td>us</td>\n",
       "      <td>42.363611</td>\n",
       "      <td>-87.844722</td>\n",
       "      <td>formation</td>\n",
       "      <td>Group of stationary objects high in afternoon ...</td>\n",
       "      <td>1963-06-01</td>\n",
       "      <td>16:00:00</td>\n",
       "    </tr>\n",
       "    <tr>\n",
       "      <th>46941</th>\n",
       "      <td>1963-06-01 18:00:00</td>\n",
       "      <td>180</td>\n",
       "      <td>royal oak</td>\n",
       "      <td>mi</td>\n",
       "      <td>us</td>\n",
       "      <td>42.489444</td>\n",
       "      <td>-83.144722</td>\n",
       "      <td>triangle</td>\n",
       "      <td>A hovering triangular craft&amp;#44 with moving wh...</td>\n",
       "      <td>1963-06-01</td>\n",
       "      <td>18:00:00</td>\n",
       "    </tr>\n",
       "    <tr>\n",
       "      <th>46942</th>\n",
       "      <td>1963-06-01 20:00:00</td>\n",
       "      <td>120</td>\n",
       "      <td>laguna beach (south)</td>\n",
       "      <td>ca</td>\n",
       "      <td>us</td>\n",
       "      <td>33.542222</td>\n",
       "      <td>-117.782222</td>\n",
       "      <td>light</td>\n",
       "      <td>USO(s) - Unidentified Submerged Object(s) -- y...</td>\n",
       "      <td>1963-06-01</td>\n",
       "      <td>20:00:00</td>\n",
       "    </tr>\n",
       "    <tr>\n",
       "      <th>46943</th>\n",
       "      <td>1963-06-01 21:00:00</td>\n",
       "      <td>300</td>\n",
       "      <td>rodeo</td>\n",
       "      <td>ca</td>\n",
       "      <td>us</td>\n",
       "      <td>38.033056</td>\n",
       "      <td>-122.265833</td>\n",
       "      <td>sphere</td>\n",
       "      <td>Blue humming and vibrating sphere in my room</td>\n",
       "      <td>1963-06-01</td>\n",
       "      <td>21:00:00</td>\n",
       "    </tr>\n",
       "    <tr>\n",
       "      <th>46945</th>\n",
       "      <td>1963-06-01 23:00:00</td>\n",
       "      <td>300</td>\n",
       "      <td>colorado springs (mtns. nw of)</td>\n",
       "      <td>co</td>\n",
       "      <td>us</td>\n",
       "      <td>38.833889</td>\n",
       "      <td>-104.820833</td>\n",
       "      <td>disk</td>\n",
       "      <td>UFO hovered and made right angle turns before ...</td>\n",
       "      <td>1963-06-01</td>\n",
       "      <td>23:00:00</td>\n",
       "    </tr>\n",
       "    <tr>\n",
       "      <th>46946</th>\n",
       "      <td>1963-06-01 00:00:00</td>\n",
       "      <td>259200</td>\n",
       "      <td>san francisco</td>\n",
       "      <td>ca</td>\n",
       "      <td>us</td>\n",
       "      <td>37.775000</td>\n",
       "      <td>-122.418333</td>\n",
       "      <td>disk</td>\n",
       "      <td>San Francisco man&amp;#44 then 22&amp;#44 reported det...</td>\n",
       "      <td>1963-06-01</td>\n",
       "      <td>00:00:00</td>\n",
       "    </tr>\n",
       "  </tbody>\n",
       "</table>\n",
       "</div>"
      ],
      "text/plain": [
       "                timestamp  duration (seconds)                            city  \\\n",
       "46934 1963-06-01 00:00:00                 900                           cocoa   \n",
       "46935 1963-06-01 02:00:00                 300                st. louis county   \n",
       "46936 1963-06-01 08:30:00                  30                        gonzales   \n",
       "46937 1963-06-01 11:00:00                1200                       albemarle   \n",
       "46938 1963-06-01 12:00:00                 300                         houston   \n",
       "46939 1963-06-01 13:00:00                  60                         kirksey   \n",
       "46940 1963-06-01 16:00:00                 900                        waukegan   \n",
       "46941 1963-06-01 18:00:00                 180                       royal oak   \n",
       "46942 1963-06-01 20:00:00                 120            laguna beach (south)   \n",
       "46943 1963-06-01 21:00:00                 300                           rodeo   \n",
       "46945 1963-06-01 23:00:00                 300  colorado springs (mtns. nw of)   \n",
       "46946 1963-06-01 00:00:00              259200                   san francisco   \n",
       "\n",
       "      state country   latitude   longitude      shape  \\\n",
       "46934    fl      us  28.385833  -80.742222    unknown   \n",
       "46935    mo      us  38.627222  -90.197778      cigar   \n",
       "46936    tx      us  29.501389  -97.452222      cigar   \n",
       "46937    nc      us  35.350000  -80.200278       disk   \n",
       "46938    tx      us  29.763056  -95.363056      cigar   \n",
       "46939    ky      us  36.698611  -88.395278   triangle   \n",
       "46940    il      us  42.363611  -87.844722  formation   \n",
       "46941    mi      us  42.489444  -83.144722   triangle   \n",
       "46942    ca      us  33.542222 -117.782222      light   \n",
       "46943    ca      us  38.033056 -122.265833     sphere   \n",
       "46945    co      us  38.833889 -104.820833       disk   \n",
       "46946    ca      us  37.775000 -122.418333       disk   \n",
       "\n",
       "                                                comments        date      time  \n",
       "46934  We are not alone&#44  I swear it before God Al...  1963-06-01  00:00:00  \n",
       "46935  Cigar shaped craft hovering over swimming pool...  1963-06-01  02:00:00  \n",
       "46936  Object was cigar shaped&#44lights along side a...  1963-06-01  08:30:00  \n",
       "46937  outside playling &#44neighbor starting yelling...  1963-06-01  11:00:00  \n",
       "46938  Cigar shaped UFO over north Houston&#44&#44  b...  1963-06-01  12:00:00  \n",
       "46939  Triangle shaped UFO seen in daytime in 1963 in...  1963-06-01  13:00:00  \n",
       "46940  Group of stationary objects high in afternoon ...  1963-06-01  16:00:00  \n",
       "46941  A hovering triangular craft&#44 with moving wh...  1963-06-01  18:00:00  \n",
       "46942  USO(s) - Unidentified Submerged Object(s) -- y...  1963-06-01  20:00:00  \n",
       "46943       Blue humming and vibrating sphere in my room  1963-06-01  21:00:00  \n",
       "46945  UFO hovered and made right angle turns before ...  1963-06-01  23:00:00  \n",
       "46946  San Francisco man&#44 then 22&#44 reported det...  1963-06-01  00:00:00  "
      ]
     },
     "execution_count": 12,
     "metadata": {},
     "output_type": "execute_result"
    }
   ],
   "source": [
    "data.loc[data.date == dates[0]]"
   ]
  },
  {
   "cell_type": "code",
   "execution_count": 13,
   "id": "5dae0d57",
   "metadata": {},
   "outputs": [],
   "source": [
    "def sametime(date):\n",
    "    x = data.loc[data.date == date]\n",
    "    n = x[\"country\"].nunique()\n",
    "    return n > 2"
   ]
  },
  {
   "cell_type": "code",
   "execution_count": 14,
   "id": "3fbcaf1e",
   "metadata": {},
   "outputs": [],
   "source": [
    "valid_dates = []\n",
    "for d in dates:\n",
    "    if sametime(d) == True: \n",
    "        valid_dates.append(d)\n"
   ]
  },
  {
   "cell_type": "code",
   "execution_count": 15,
   "id": "3f5e408a",
   "metadata": {},
   "outputs": [
    {
     "data": {
      "text/plain": [
       "[datetime.date(1978, 6, 1),\n",
       " datetime.date(2000, 6, 15),\n",
       " datetime.date(2003, 11, 22),\n",
       " datetime.date(2007, 4, 29),\n",
       " datetime.date(2013, 10, 3)]"
      ]
     },
     "execution_count": 15,
     "metadata": {},
     "output_type": "execute_result"
    }
   ],
   "source": [
    "valid_dates "
   ]
  },
  {
   "cell_type": "code",
   "execution_count": 16,
   "id": "8c114236",
   "metadata": {},
   "outputs": [],
   "source": [
    "train = data.loc[(data.date == valid_dates[0]) | (data.date == valid_dates[1]) | (data.date == valid_dates[2]) | (data.date == valid_dates[3])].sort_values(by=\"time\")"
   ]
  },
  {
   "cell_type": "code",
   "execution_count": 17,
   "id": "755e8e95",
   "metadata": {},
   "outputs": [],
   "source": [
    "validate = data.loc[data.date == valid_dates[4]].sort_values(by=\"time\")"
   ]
  },
  {
   "cell_type": "code",
   "execution_count": 18,
   "id": "0dbd1e43",
   "metadata": {},
   "outputs": [
    {
     "data": {
      "text/plain": [
       "array(['disk', 'light', 'circle', 'triangle', 'cigar', 'unknown',\n",
       "       'sphere', 'other', 'oval', 'egg', 'cylinder', 'fireball',\n",
       "       'formation', 'rectangle', 'changing'], dtype=object)"
      ]
     },
     "execution_count": 18,
     "metadata": {},
     "output_type": "execute_result"
    }
   ],
   "source": [
    "train['shape'].unique()"
   ]
  },
  {
   "cell_type": "code",
   "execution_count": 19,
   "id": "ef73b215",
   "metadata": {},
   "outputs": [
    {
     "data": {
      "text/plain": [
       "array(['triangle', 'light', 'flash', 'circle', 'rectangle', 'other',\n",
       "       'fireball', 'oval'], dtype=object)"
      ]
     },
     "execution_count": 19,
     "metadata": {},
     "output_type": "execute_result"
    }
   ],
   "source": [
    "validate['shape'].unique()"
   ]
  },
  {
   "cell_type": "code",
   "execution_count": 20,
   "id": "ffa693af",
   "metadata": {},
   "outputs": [],
   "source": [
    "def shaper(shape):\n",
    "    \"\"\" A function that turns every obseration of dataframe shape into a coresponding number\"\"\"\n",
    "    if shape in ('disk', 'circle', 'cigar','sphere',  'oval', 'egg', 'cylinder', 'fireball'):\n",
    "        return 0\n",
    "    if shape in ('triangle', 'rectangle'):\n",
    "        return 1\n",
    "    if shape in ('light', 'flash'):\n",
    "        return 2\n",
    "    else:\n",
    "        return 3         "
   ]
  },
  {
   "cell_type": "code",
   "execution_count": 21,
   "id": "f22b11bb",
   "metadata": {},
   "outputs": [],
   "source": [
    "train[\"label\"] = train[\"shape\"].map(shaper)"
   ]
  },
  {
   "cell_type": "code",
   "execution_count": 22,
   "id": "74b2b94e",
   "metadata": {},
   "outputs": [],
   "source": [
    "validate[\"label\"] = validate[\"shape\"].map(shaper)"
   ]
  },
  {
   "cell_type": "code",
   "execution_count": 23,
   "id": "1f73f8be",
   "metadata": {},
   "outputs": [],
   "source": [
    "validate[\"hour\"] = validate[\"time\"].map(lambda x: int(str(x).split(\":\")[0]))"
   ]
  },
  {
   "cell_type": "code",
   "execution_count": 24,
   "id": "746e9ac0",
   "metadata": {},
   "outputs": [],
   "source": [
    "train[\"hour\"] = train[\"time\"].map(lambda x: int(str(x).split(\":\")[0]))"
   ]
  },
  {
   "cell_type": "code",
   "execution_count": 25,
   "id": "06fee83e",
   "metadata": {},
   "outputs": [
    {
     "data": {
      "text/html": [
       "<div>\n",
       "<style scoped>\n",
       "    .dataframe tbody tr th:only-of-type {\n",
       "        vertical-align: middle;\n",
       "    }\n",
       "\n",
       "    .dataframe tbody tr th {\n",
       "        vertical-align: top;\n",
       "    }\n",
       "\n",
       "    .dataframe thead th {\n",
       "        text-align: right;\n",
       "    }\n",
       "</style>\n",
       "<table border=\"1\" class=\"dataframe\">\n",
       "  <thead>\n",
       "    <tr style=\"text-align: right;\">\n",
       "      <th></th>\n",
       "      <th>timestamp</th>\n",
       "      <th>duration (seconds)</th>\n",
       "      <th>city</th>\n",
       "      <th>state</th>\n",
       "      <th>country</th>\n",
       "      <th>latitude</th>\n",
       "      <th>longitude</th>\n",
       "      <th>shape</th>\n",
       "      <th>comments</th>\n",
       "      <th>date</th>\n",
       "      <th>time</th>\n",
       "      <th>label</th>\n",
       "      <th>hour</th>\n",
       "    </tr>\n",
       "  </thead>\n",
       "  <tbody>\n",
       "    <tr>\n",
       "      <th>6201</th>\n",
       "      <td>2013-10-03 00:10:00</td>\n",
       "      <td>300</td>\n",
       "      <td>athens</td>\n",
       "      <td>ga</td>\n",
       "      <td>us</td>\n",
       "      <td>33.960833</td>\n",
       "      <td>-83.378056</td>\n",
       "      <td>triangle</td>\n",
       "      <td>Triangle-shaped object the size of a go-kart w...</td>\n",
       "      <td>2013-10-03</td>\n",
       "      <td>00:10:00</td>\n",
       "      <td>1</td>\n",
       "      <td>0</td>\n",
       "    </tr>\n",
       "    <tr>\n",
       "      <th>6202</th>\n",
       "      <td>2013-10-03 01:30:00</td>\n",
       "      <td>25</td>\n",
       "      <td>baltimore (city line)</td>\n",
       "      <td>md</td>\n",
       "      <td>us</td>\n",
       "      <td>39.290278</td>\n",
       "      <td>-76.612500</td>\n",
       "      <td>light</td>\n",
       "      <td>On the evening of September 3rd&amp;#44 I was smok...</td>\n",
       "      <td>2013-10-03</td>\n",
       "      <td>01:30:00</td>\n",
       "      <td>2</td>\n",
       "      <td>1</td>\n",
       "    </tr>\n",
       "    <tr>\n",
       "      <th>6203</th>\n",
       "      <td>2013-10-03 02:00:00</td>\n",
       "      <td>25</td>\n",
       "      <td>waterbury</td>\n",
       "      <td>vt</td>\n",
       "      <td>us</td>\n",
       "      <td>44.337778</td>\n",
       "      <td>-72.756667</td>\n",
       "      <td>light</td>\n",
       "      <td>Two bright glowing objects that were parallel ...</td>\n",
       "      <td>2013-10-03</td>\n",
       "      <td>02:00:00</td>\n",
       "      <td>2</td>\n",
       "      <td>2</td>\n",
       "    </tr>\n",
       "  </tbody>\n",
       "</table>\n",
       "</div>"
      ],
      "text/plain": [
       "               timestamp  duration (seconds)                   city state  \\\n",
       "6201 2013-10-03 00:10:00                 300                 athens    ga   \n",
       "6202 2013-10-03 01:30:00                  25  baltimore (city line)    md   \n",
       "6203 2013-10-03 02:00:00                  25              waterbury    vt   \n",
       "\n",
       "     country   latitude  longitude     shape  \\\n",
       "6201      us  33.960833 -83.378056  triangle   \n",
       "6202      us  39.290278 -76.612500     light   \n",
       "6203      us  44.337778 -72.756667     light   \n",
       "\n",
       "                                               comments        date      time  \\\n",
       "6201  Triangle-shaped object the size of a go-kart w...  2013-10-03  00:10:00   \n",
       "6202  On the evening of September 3rd&#44 I was smok...  2013-10-03  01:30:00   \n",
       "6203  Two bright glowing objects that were parallel ...  2013-10-03  02:00:00   \n",
       "\n",
       "      label  hour  \n",
       "6201      1     0  \n",
       "6202      2     1  \n",
       "6203      2     2  "
      ]
     },
     "execution_count": 25,
     "metadata": {},
     "output_type": "execute_result"
    }
   ],
   "source": [
    "validate.head(3)"
   ]
  },
  {
   "cell_type": "code",
   "execution_count": 26,
   "id": "369e1ef5",
   "metadata": {},
   "outputs": [
    {
     "data": {
      "text/html": [
       "<div>\n",
       "<style scoped>\n",
       "    .dataframe tbody tr th:only-of-type {\n",
       "        vertical-align: middle;\n",
       "    }\n",
       "\n",
       "    .dataframe tbody tr th {\n",
       "        vertical-align: top;\n",
       "    }\n",
       "\n",
       "    .dataframe thead th {\n",
       "        text-align: right;\n",
       "    }\n",
       "</style>\n",
       "<table border=\"1\" class=\"dataframe\">\n",
       "  <thead>\n",
       "    <tr style=\"text-align: right;\">\n",
       "      <th></th>\n",
       "      <th>timestamp</th>\n",
       "      <th>duration (seconds)</th>\n",
       "      <th>city</th>\n",
       "      <th>state</th>\n",
       "      <th>country</th>\n",
       "      <th>latitude</th>\n",
       "      <th>longitude</th>\n",
       "      <th>shape</th>\n",
       "      <th>comments</th>\n",
       "      <th>date</th>\n",
       "      <th>time</th>\n",
       "      <th>label</th>\n",
       "      <th>hour</th>\n",
       "    </tr>\n",
       "  </thead>\n",
       "  <tbody>\n",
       "    <tr>\n",
       "      <th>47220</th>\n",
       "      <td>1978-06-01 00:00:00</td>\n",
       "      <td>7200</td>\n",
       "      <td>grants pass</td>\n",
       "      <td>or</td>\n",
       "      <td>us</td>\n",
       "      <td>42.439167</td>\n",
       "      <td>-123.327222</td>\n",
       "      <td>disk</td>\n",
       "      <td>Object landed on corner of street.  Stayed the...</td>\n",
       "      <td>1978-06-01</td>\n",
       "      <td>00:00:00</td>\n",
       "      <td>0</td>\n",
       "      <td>0</td>\n",
       "    </tr>\n",
       "    <tr>\n",
       "      <th>12297</th>\n",
       "      <td>2003-11-22 00:30:00</td>\n",
       "      <td>10</td>\n",
       "      <td>harding (near)</td>\n",
       "      <td>wv</td>\n",
       "      <td>us</td>\n",
       "      <td>38.948056</td>\n",
       "      <td>-79.959444</td>\n",
       "      <td>disk</td>\n",
       "      <td>Transluscent disc shaped ufo flying right at u...</td>\n",
       "      <td>2003-11-22</td>\n",
       "      <td>00:30:00</td>\n",
       "      <td>0</td>\n",
       "      <td>0</td>\n",
       "    </tr>\n",
       "    <tr>\n",
       "      <th>47221</th>\n",
       "      <td>1978-06-01 00:30:00</td>\n",
       "      <td>15</td>\n",
       "      <td>grand saline</td>\n",
       "      <td>tx</td>\n",
       "      <td>us</td>\n",
       "      <td>32.673333</td>\n",
       "      <td>-95.709167</td>\n",
       "      <td>light</td>\n",
       "      <td>Blinding white light over my pickup then sudde...</td>\n",
       "      <td>1978-06-01</td>\n",
       "      <td>00:30:00</td>\n",
       "      <td>2</td>\n",
       "      <td>0</td>\n",
       "    </tr>\n",
       "  </tbody>\n",
       "</table>\n",
       "</div>"
      ],
      "text/plain": [
       "                timestamp  duration (seconds)            city state country  \\\n",
       "47220 1978-06-01 00:00:00                7200     grants pass    or      us   \n",
       "12297 2003-11-22 00:30:00                  10  harding (near)    wv      us   \n",
       "47221 1978-06-01 00:30:00                  15    grand saline    tx      us   \n",
       "\n",
       "        latitude   longitude  shape  \\\n",
       "47220  42.439167 -123.327222   disk   \n",
       "12297  38.948056  -79.959444   disk   \n",
       "47221  32.673333  -95.709167  light   \n",
       "\n",
       "                                                comments        date  \\\n",
       "47220  Object landed on corner of street.  Stayed the...  1978-06-01   \n",
       "12297  Transluscent disc shaped ufo flying right at u...  2003-11-22   \n",
       "47221  Blinding white light over my pickup then sudde...  1978-06-01   \n",
       "\n",
       "           time  label  hour  \n",
       "47220  00:00:00      0     0  \n",
       "12297  00:30:00      0     0  \n",
       "47221  00:30:00      2     0  "
      ]
     },
     "execution_count": 26,
     "metadata": {},
     "output_type": "execute_result"
    }
   ],
   "source": [
    "train.head(3)"
   ]
  },
  {
   "cell_type": "code",
   "execution_count": 27,
   "id": "4d0b67f5",
   "metadata": {},
   "outputs": [],
   "source": [
    "train_features = train[[\"latitude\", \"longitude\", \"hour\"]].values.tolist()"
   ]
  },
  {
   "cell_type": "code",
   "execution_count": 28,
   "id": "a8fc54cb",
   "metadata": {},
   "outputs": [],
   "source": [
    "train_labels = train[\"label\"].tolist()"
   ]
  },
  {
   "cell_type": "code",
   "execution_count": 29,
   "id": "a96cfbfc",
   "metadata": {},
   "outputs": [],
   "source": [
    "validate_features = validate[[\"latitude\", \"longitude\", \"hour\"]].values.tolist()"
   ]
  },
  {
   "cell_type": "code",
   "execution_count": 30,
   "id": "18aa7f3d",
   "metadata": {},
   "outputs": [],
   "source": [
    "validate_labels = validate[\"label\"].tolist()"
   ]
  },
  {
   "cell_type": "code",
   "execution_count": 31,
   "id": "b4812774",
   "metadata": {},
   "outputs": [],
   "source": [
    "from sklearn.ensemble import RandomForestClassifier"
   ]
  },
  {
   "cell_type": "code",
   "execution_count": 32,
   "id": "6cbcce52",
   "metadata": {},
   "outputs": [],
   "source": [
    "clf = RandomForestClassifier()"
   ]
  },
  {
   "cell_type": "code",
   "execution_count": 33,
   "id": "bae3fb72",
   "metadata": {},
   "outputs": [
    {
     "data": {
      "text/html": [
       "<style>#sk-container-id-1 {color: black;background-color: white;}#sk-container-id-1 pre{padding: 0;}#sk-container-id-1 div.sk-toggleable {background-color: white;}#sk-container-id-1 label.sk-toggleable__label {cursor: pointer;display: block;width: 100%;margin-bottom: 0;padding: 0.3em;box-sizing: border-box;text-align: center;}#sk-container-id-1 label.sk-toggleable__label-arrow:before {content: \"▸\";float: left;margin-right: 0.25em;color: #696969;}#sk-container-id-1 label.sk-toggleable__label-arrow:hover:before {color: black;}#sk-container-id-1 div.sk-estimator:hover label.sk-toggleable__label-arrow:before {color: black;}#sk-container-id-1 div.sk-toggleable__content {max-height: 0;max-width: 0;overflow: hidden;text-align: left;background-color: #f0f8ff;}#sk-container-id-1 div.sk-toggleable__content pre {margin: 0.2em;color: black;border-radius: 0.25em;background-color: #f0f8ff;}#sk-container-id-1 input.sk-toggleable__control:checked~div.sk-toggleable__content {max-height: 200px;max-width: 100%;overflow: auto;}#sk-container-id-1 input.sk-toggleable__control:checked~label.sk-toggleable__label-arrow:before {content: \"▾\";}#sk-container-id-1 div.sk-estimator input.sk-toggleable__control:checked~label.sk-toggleable__label {background-color: #d4ebff;}#sk-container-id-1 div.sk-label input.sk-toggleable__control:checked~label.sk-toggleable__label {background-color: #d4ebff;}#sk-container-id-1 input.sk-hidden--visually {border: 0;clip: rect(1px 1px 1px 1px);clip: rect(1px, 1px, 1px, 1px);height: 1px;margin: -1px;overflow: hidden;padding: 0;position: absolute;width: 1px;}#sk-container-id-1 div.sk-estimator {font-family: monospace;background-color: #f0f8ff;border: 1px dotted black;border-radius: 0.25em;box-sizing: border-box;margin-bottom: 0.5em;}#sk-container-id-1 div.sk-estimator:hover {background-color: #d4ebff;}#sk-container-id-1 div.sk-parallel-item::after {content: \"\";width: 100%;border-bottom: 1px solid gray;flex-grow: 1;}#sk-container-id-1 div.sk-label:hover label.sk-toggleable__label {background-color: #d4ebff;}#sk-container-id-1 div.sk-serial::before {content: \"\";position: absolute;border-left: 1px solid gray;box-sizing: border-box;top: 0;bottom: 0;left: 50%;z-index: 0;}#sk-container-id-1 div.sk-serial {display: flex;flex-direction: column;align-items: center;background-color: white;padding-right: 0.2em;padding-left: 0.2em;position: relative;}#sk-container-id-1 div.sk-item {position: relative;z-index: 1;}#sk-container-id-1 div.sk-parallel {display: flex;align-items: stretch;justify-content: center;background-color: white;position: relative;}#sk-container-id-1 div.sk-item::before, #sk-container-id-1 div.sk-parallel-item::before {content: \"\";position: absolute;border-left: 1px solid gray;box-sizing: border-box;top: 0;bottom: 0;left: 50%;z-index: -1;}#sk-container-id-1 div.sk-parallel-item {display: flex;flex-direction: column;z-index: 1;position: relative;background-color: white;}#sk-container-id-1 div.sk-parallel-item:first-child::after {align-self: flex-end;width: 50%;}#sk-container-id-1 div.sk-parallel-item:last-child::after {align-self: flex-start;width: 50%;}#sk-container-id-1 div.sk-parallel-item:only-child::after {width: 0;}#sk-container-id-1 div.sk-dashed-wrapped {border: 1px dashed gray;margin: 0 0.4em 0.5em 0.4em;box-sizing: border-box;padding-bottom: 0.4em;background-color: white;}#sk-container-id-1 div.sk-label label {font-family: monospace;font-weight: bold;display: inline-block;line-height: 1.2em;}#sk-container-id-1 div.sk-label-container {text-align: center;}#sk-container-id-1 div.sk-container {/* jupyter's `normalize.less` sets `[hidden] { display: none; }` but bootstrap.min.css set `[hidden] { display: none !important; }` so we also need the `!important` here to be able to override the default hidden behavior on the sphinx rendered scikit-learn.org. See: https://github.com/scikit-learn/scikit-learn/issues/21755 */display: inline-block !important;position: relative;}#sk-container-id-1 div.sk-text-repr-fallback {display: none;}</style><div id=\"sk-container-id-1\" class=\"sk-top-container\"><div class=\"sk-text-repr-fallback\"><pre>RandomForestClassifier()</pre><b>In a Jupyter environment, please rerun this cell to show the HTML representation or trust the notebook. <br />On GitHub, the HTML representation is unable to render, please try loading this page with nbviewer.org.</b></div><div class=\"sk-container\" hidden><div class=\"sk-item\"><div class=\"sk-estimator sk-toggleable\"><input class=\"sk-toggleable__control sk-hidden--visually\" id=\"sk-estimator-id-1\" type=\"checkbox\" checked><label for=\"sk-estimator-id-1\" class=\"sk-toggleable__label sk-toggleable__label-arrow\">RandomForestClassifier</label><div class=\"sk-toggleable__content\"><pre>RandomForestClassifier()</pre></div></div></div></div></div>"
      ],
      "text/plain": [
       "RandomForestClassifier()"
      ]
     },
     "execution_count": 33,
     "metadata": {},
     "output_type": "execute_result"
    }
   ],
   "source": [
    "clf.fit(train_features, train_labels)"
   ]
  },
  {
   "cell_type": "code",
   "execution_count": 34,
   "id": "5be25c32",
   "metadata": {},
   "outputs": [
    {
     "data": {
      "text/plain": [
       "array([0])"
      ]
     },
     "execution_count": 34,
     "metadata": {},
     "output_type": "execute_result"
    }
   ],
   "source": [
    "clf.predict([train_features[0]])"
   ]
  },
  {
   "cell_type": "code",
   "execution_count": 35,
   "id": "a51e5279",
   "metadata": {},
   "outputs": [
    {
     "data": {
      "text/plain": [
       "0.3157894736842105"
      ]
     },
     "execution_count": 35,
     "metadata": {},
     "output_type": "execute_result"
    }
   ],
   "source": [
    "clf.score(validate_features, validate_labels)"
   ]
  },
  {
   "cell_type": "markdown",
   "id": "be1ec037",
   "metadata": {},
   "source": [
    "This shows that the latitude, longitude amd time can not acuretly predict the obsereved UFO shape in a new day, becouse the accuracy is only a little bit higher than random guess."
   ]
  },
  {
   "cell_type": "code",
   "execution_count": 36,
   "id": "00f6f12b",
   "metadata": {},
   "outputs": [
    {
     "data": {
      "text/plain": [
       "1.0"
      ]
     },
     "execution_count": 36,
     "metadata": {},
     "output_type": "execute_result"
    }
   ],
   "source": [
    "clf.score(train_features, train_labels)"
   ]
  },
  {
   "cell_type": "markdown",
   "id": "88146d57",
   "metadata": {},
   "source": [
    " As you can see the accuracy in train data is 100%, so the model is over fitting on the training set, but the prediction rules do not generalize to unseen data. "
   ]
  },
  {
   "cell_type": "markdown",
   "id": "4ba91016",
   "metadata": {},
   "source": [
    "## the final analysis \n",
    "We can conclude that the relationship between the features in the first four dates, do not apply to the last day, hence this can be seen as an ecvidense that there is no recognisable pattern between spacetime and reported shape."
   ]
  },
  {
   "cell_type": "code",
   "execution_count": null,
   "id": "f5d45aea",
   "metadata": {},
   "outputs": [],
   "source": []
  }
 ],
 "metadata": {
  "kernelspec": {
   "display_name": "Python 3 (ipykernel)",
   "language": "python",
   "name": "python3"
  },
  "language_info": {
   "codemirror_mode": {
    "name": "ipython",
    "version": 3
   },
   "file_extension": ".py",
   "mimetype": "text/x-python",
   "name": "python",
   "nbconvert_exporter": "python",
   "pygments_lexer": "ipython3",
   "version": "3.10.11"
  }
 },
 "nbformat": 4,
 "nbformat_minor": 5
}
