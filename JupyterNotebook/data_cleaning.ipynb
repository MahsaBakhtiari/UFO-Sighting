{
 "cells": [
  {
   "cell_type": "markdown",
   "id": "6f6f59c3",
   "metadata": {},
   "source": [
    "# Data Cleaning\n",
    "\n",
    "* **note:** In order to make any changes to this file, please copy and rename it in your local system to avoind merging conflicts.\n",
    "* OG.csv used as main dataset in this notebook is orginally scrubbed.csv sourced from [here](https://www.kaggle.com/datasets/NUFORC/ufo-sightings?resource=download)."
   ]
  },
  {
   "cell_type": "code",
   "execution_count": 1,
   "id": "9a9088ed",
   "metadata": {},
   "outputs": [],
   "source": [
    "from datetime import datetime, timedelta\n",
    "import pandas as pd\n"
   ]
  },
  {
   "cell_type": "code",
   "execution_count": 2,
   "id": "207eb94e",
   "metadata": {},
   "outputs": [],
   "source": [
    "og_data = pd.read_csv(\"./Resources/OG.csv\", low_memory=False)"
   ]
  },
  {
   "cell_type": "code",
   "execution_count": 3,
   "id": "ee745ec2",
   "metadata": {},
   "outputs": [
    {
     "data": {
      "text/html": [
       "<div>\n",
       "<style scoped>\n",
       "    .dataframe tbody tr th:only-of-type {\n",
       "        vertical-align: middle;\n",
       "    }\n",
       "\n",
       "    .dataframe tbody tr th {\n",
       "        vertical-align: top;\n",
       "    }\n",
       "\n",
       "    .dataframe thead th {\n",
       "        text-align: right;\n",
       "    }\n",
       "</style>\n",
       "<table border=\"1\" class=\"dataframe\">\n",
       "  <thead>\n",
       "    <tr style=\"text-align: right;\">\n",
       "      <th></th>\n",
       "      <th>datetime</th>\n",
       "      <th>city</th>\n",
       "      <th>state</th>\n",
       "      <th>country</th>\n",
       "      <th>shape</th>\n",
       "      <th>duration (seconds)</th>\n",
       "      <th>duration (hours/min)</th>\n",
       "      <th>comments</th>\n",
       "      <th>date posted</th>\n",
       "      <th>latitude</th>\n",
       "      <th>longitude</th>\n",
       "    </tr>\n",
       "  </thead>\n",
       "  <tbody>\n",
       "    <tr>\n",
       "      <th>0</th>\n",
       "      <td>10/10/1949 20:30</td>\n",
       "      <td>san marcos</td>\n",
       "      <td>tx</td>\n",
       "      <td>us</td>\n",
       "      <td>cylinder</td>\n",
       "      <td>2700</td>\n",
       "      <td>45 minutes</td>\n",
       "      <td>This event took place in early fall around 194...</td>\n",
       "      <td>4/27/2004</td>\n",
       "      <td>29.8830556</td>\n",
       "      <td>-97.941111</td>\n",
       "    </tr>\n",
       "    <tr>\n",
       "      <th>1</th>\n",
       "      <td>10/10/1949 21:00</td>\n",
       "      <td>lackland afb</td>\n",
       "      <td>tx</td>\n",
       "      <td>NaN</td>\n",
       "      <td>light</td>\n",
       "      <td>7200</td>\n",
       "      <td>1-2 hrs</td>\n",
       "      <td>1949 Lackland AFB&amp;#44 TX.  Lights racing acros...</td>\n",
       "      <td>12/16/2005</td>\n",
       "      <td>29.38421</td>\n",
       "      <td>-98.581082</td>\n",
       "    </tr>\n",
       "    <tr>\n",
       "      <th>2</th>\n",
       "      <td>10/10/1955 17:00</td>\n",
       "      <td>chester (uk/england)</td>\n",
       "      <td>NaN</td>\n",
       "      <td>gb</td>\n",
       "      <td>circle</td>\n",
       "      <td>20</td>\n",
       "      <td>20 seconds</td>\n",
       "      <td>Green/Orange circular disc over Chester&amp;#44 En...</td>\n",
       "      <td>1/21/2008</td>\n",
       "      <td>53.2</td>\n",
       "      <td>-2.916667</td>\n",
       "    </tr>\n",
       "  </tbody>\n",
       "</table>\n",
       "</div>"
      ],
      "text/plain": [
       "           datetime                  city state country     shape  \\\n",
       "0  10/10/1949 20:30            san marcos    tx      us  cylinder   \n",
       "1  10/10/1949 21:00          lackland afb    tx     NaN     light   \n",
       "2  10/10/1955 17:00  chester (uk/england)   NaN      gb    circle   \n",
       "\n",
       "  duration (seconds) duration (hours/min)  \\\n",
       "0               2700           45 minutes   \n",
       "1               7200              1-2 hrs   \n",
       "2                 20           20 seconds   \n",
       "\n",
       "                                            comments date posted    latitude  \\\n",
       "0  This event took place in early fall around 194...   4/27/2004  29.8830556   \n",
       "1  1949 Lackland AFB&#44 TX.  Lights racing acros...  12/16/2005    29.38421   \n",
       "2  Green/Orange circular disc over Chester&#44 En...   1/21/2008        53.2   \n",
       "\n",
       "   longitude   \n",
       "0  -97.941111  \n",
       "1  -98.581082  \n",
       "2   -2.916667  "
      ]
     },
     "execution_count": 3,
     "metadata": {},
     "output_type": "execute_result"
    }
   ],
   "source": [
    "og_data.head(3)"
   ]
  },
  {
   "cell_type": "code",
   "execution_count": 4,
   "id": "8cf5d8b1",
   "metadata": {},
   "outputs": [
    {
     "name": "stdout",
     "output_type": "stream",
     "text": [
      "<class 'pandas.core.frame.DataFrame'>\n",
      "RangeIndex: 80332 entries, 0 to 80331\n",
      "Data columns (total 11 columns):\n",
      " #   Column                Non-Null Count  Dtype  \n",
      "---  ------                --------------  -----  \n",
      " 0   datetime              80332 non-null  object \n",
      " 1   city                  80332 non-null  object \n",
      " 2   state                 74535 non-null  object \n",
      " 3   country               70662 non-null  object \n",
      " 4   shape                 78400 non-null  object \n",
      " 5   duration (seconds)    80332 non-null  object \n",
      " 6   duration (hours/min)  80332 non-null  object \n",
      " 7   comments              80317 non-null  object \n",
      " 8   date posted           80332 non-null  object \n",
      " 9   latitude              80332 non-null  object \n",
      " 10  longitude             80332 non-null  float64\n",
      "dtypes: float64(1), object(10)\n",
      "memory usage: 6.7+ MB\n"
     ]
    }
   ],
   "source": [
    "og_data.info()"
   ]
  },
  {
   "cell_type": "code",
   "execution_count": 5,
   "id": "1af31699",
   "metadata": {},
   "outputs": [],
   "source": [
    "data_not_null = og_data.dropna()"
   ]
  },
  {
   "cell_type": "code",
   "execution_count": 6,
   "id": "2b2847ee",
   "metadata": {},
   "outputs": [],
   "source": [
    "data_not_null = data_not_null.drop_duplicates()"
   ]
  },
  {
   "cell_type": "code",
   "execution_count": 7,
   "id": "a84b735d",
   "metadata": {},
   "outputs": [
    {
     "name": "stdout",
     "output_type": "stream",
     "text": [
      "<class 'pandas.core.frame.DataFrame'>\n",
      "Int64Index: 66516 entries, 0 to 80331\n",
      "Data columns (total 11 columns):\n",
      " #   Column                Non-Null Count  Dtype  \n",
      "---  ------                --------------  -----  \n",
      " 0   datetime              66516 non-null  object \n",
      " 1   city                  66516 non-null  object \n",
      " 2   state                 66516 non-null  object \n",
      " 3   country               66516 non-null  object \n",
      " 4   shape                 66516 non-null  object \n",
      " 5   duration (seconds)    66516 non-null  object \n",
      " 6   duration (hours/min)  66516 non-null  object \n",
      " 7   comments              66516 non-null  object \n",
      " 8   date posted           66516 non-null  object \n",
      " 9   latitude              66516 non-null  object \n",
      " 10  longitude             66516 non-null  float64\n",
      "dtypes: float64(1), object(10)\n",
      "memory usage: 6.1+ MB\n"
     ]
    }
   ],
   "source": [
    "data_not_null.info()"
   ]
  },
  {
   "cell_type": "code",
   "execution_count": 8,
   "id": "aa7da8b8",
   "metadata": {},
   "outputs": [],
   "source": [
    "data = data_not_null.astype({\"latitude\": \"float\", \"duration (seconds)\": \"float\"})"
   ]
  },
  {
   "cell_type": "code",
   "execution_count": 9,
   "id": "1756cc66",
   "metadata": {},
   "outputs": [],
   "source": [
    "data[\"duration (seconds)\"] = data[\"duration (seconds)\"].astype(\"int\")"
   ]
  },
  {
   "cell_type": "code",
   "execution_count": 10,
   "id": "40b98bd4",
   "metadata": {},
   "outputs": [
    {
     "name": "stdout",
     "output_type": "stream",
     "text": [
      "<class 'pandas.core.frame.DataFrame'>\n",
      "Int64Index: 66516 entries, 0 to 80331\n",
      "Data columns (total 11 columns):\n",
      " #   Column                Non-Null Count  Dtype  \n",
      "---  ------                --------------  -----  \n",
      " 0   datetime              66516 non-null  object \n",
      " 1   city                  66516 non-null  object \n",
      " 2   state                 66516 non-null  object \n",
      " 3   country               66516 non-null  object \n",
      " 4   shape                 66516 non-null  object \n",
      " 5   duration (seconds)    66516 non-null  int64  \n",
      " 6   duration (hours/min)  66516 non-null  object \n",
      " 7   comments              66516 non-null  object \n",
      " 8   date posted           66516 non-null  object \n",
      " 9   latitude              66516 non-null  float64\n",
      " 10  longitude             66516 non-null  float64\n",
      "dtypes: float64(2), int64(1), object(8)\n",
      "memory usage: 6.1+ MB\n"
     ]
    }
   ],
   "source": [
    "data.info()"
   ]
  },
  {
   "cell_type": "code",
   "execution_count": 11,
   "id": "2aec073b",
   "metadata": {},
   "outputs": [],
   "source": [
    "def midnight(datetime):\n",
    "    \"\"\"Define a function to handle the houres that are 24.\"\"\"\n",
    "    date, time = datetime.split(\" \")\n",
    "    hour, minute = time.split(\":\")\n",
    "    if hour == \"24\":\n",
    "        hour = \"00\"\n",
    "    result = date + \" \"+ hour +\":\"+ minute\n",
    "    return result"
   ]
  },
  {
   "cell_type": "code",
   "execution_count": 12,
   "id": "67f99f3c",
   "metadata": {
    "scrolled": true
   },
   "outputs": [],
   "source": [
    "data[\"timestamp\"] = data[\"datetime\"].map(midnight)"
   ]
  },
  {
   "cell_type": "code",
   "execution_count": 13,
   "id": "ed8f4a92",
   "metadata": {},
   "outputs": [],
   "source": [
    "data[\"timestamp\"] = pd.to_datetime(data[\"timestamp\"])"
   ]
  },
  {
   "cell_type": "code",
   "execution_count": 14,
   "id": "3f87ad23",
   "metadata": {},
   "outputs": [],
   "source": [
    "data[\"longitude\"] = data[\"longitude \"]"
   ]
  },
  {
   "cell_type": "code",
   "execution_count": 15,
   "id": "cffd42a4",
   "metadata": {},
   "outputs": [],
   "source": [
    "data = data[[\"timestamp\", \"duration (seconds)\", \"city\", \"state\", \"country\", \"latitude\", \"longitude\", \"shape\", \"comments\"]]"
   ]
  },
  {
   "cell_type": "code",
   "execution_count": 16,
   "id": "83944598",
   "metadata": {},
   "outputs": [
    {
     "data": {
      "text/html": [
       "<div>\n",
       "<style scoped>\n",
       "    .dataframe tbody tr th:only-of-type {\n",
       "        vertical-align: middle;\n",
       "    }\n",
       "\n",
       "    .dataframe tbody tr th {\n",
       "        vertical-align: top;\n",
       "    }\n",
       "\n",
       "    .dataframe thead th {\n",
       "        text-align: right;\n",
       "    }\n",
       "</style>\n",
       "<table border=\"1\" class=\"dataframe\">\n",
       "  <thead>\n",
       "    <tr style=\"text-align: right;\">\n",
       "      <th></th>\n",
       "      <th>timestamp</th>\n",
       "      <th>duration (seconds)</th>\n",
       "      <th>city</th>\n",
       "      <th>state</th>\n",
       "      <th>country</th>\n",
       "      <th>latitude</th>\n",
       "      <th>longitude</th>\n",
       "      <th>shape</th>\n",
       "      <th>comments</th>\n",
       "    </tr>\n",
       "  </thead>\n",
       "  <tbody>\n",
       "    <tr>\n",
       "      <th>0</th>\n",
       "      <td>1949-10-10 20:30:00</td>\n",
       "      <td>2700</td>\n",
       "      <td>san marcos</td>\n",
       "      <td>tx</td>\n",
       "      <td>us</td>\n",
       "      <td>29.883056</td>\n",
       "      <td>-97.941111</td>\n",
       "      <td>cylinder</td>\n",
       "      <td>This event took place in early fall around 194...</td>\n",
       "    </tr>\n",
       "    <tr>\n",
       "      <th>3</th>\n",
       "      <td>1956-10-10 21:00:00</td>\n",
       "      <td>20</td>\n",
       "      <td>edna</td>\n",
       "      <td>tx</td>\n",
       "      <td>us</td>\n",
       "      <td>28.978333</td>\n",
       "      <td>-96.645833</td>\n",
       "      <td>circle</td>\n",
       "      <td>My older brother and twin sister were leaving ...</td>\n",
       "    </tr>\n",
       "    <tr>\n",
       "      <th>4</th>\n",
       "      <td>1960-10-10 20:00:00</td>\n",
       "      <td>900</td>\n",
       "      <td>kaneohe</td>\n",
       "      <td>hi</td>\n",
       "      <td>us</td>\n",
       "      <td>21.418056</td>\n",
       "      <td>-157.803611</td>\n",
       "      <td>light</td>\n",
       "      <td>AS a Marine 1st Lt. flying an FJ4B fighter/att...</td>\n",
       "    </tr>\n",
       "    <tr>\n",
       "      <th>5</th>\n",
       "      <td>1961-10-10 19:00:00</td>\n",
       "      <td>300</td>\n",
       "      <td>bristol</td>\n",
       "      <td>tn</td>\n",
       "      <td>us</td>\n",
       "      <td>36.595000</td>\n",
       "      <td>-82.188889</td>\n",
       "      <td>sphere</td>\n",
       "      <td>My father is now 89 my brother 52 the girl wit...</td>\n",
       "    </tr>\n",
       "    <tr>\n",
       "      <th>7</th>\n",
       "      <td>1965-10-10 23:45:00</td>\n",
       "      <td>1200</td>\n",
       "      <td>norwalk</td>\n",
       "      <td>ct</td>\n",
       "      <td>us</td>\n",
       "      <td>41.117500</td>\n",
       "      <td>-73.408333</td>\n",
       "      <td>disk</td>\n",
       "      <td>A bright orange color changing to reddish colo...</td>\n",
       "    </tr>\n",
       "  </tbody>\n",
       "</table>\n",
       "</div>"
      ],
      "text/plain": [
       "            timestamp  duration (seconds)        city state country  \\\n",
       "0 1949-10-10 20:30:00                2700  san marcos    tx      us   \n",
       "3 1956-10-10 21:00:00                  20        edna    tx      us   \n",
       "4 1960-10-10 20:00:00                 900     kaneohe    hi      us   \n",
       "5 1961-10-10 19:00:00                 300     bristol    tn      us   \n",
       "7 1965-10-10 23:45:00                1200     norwalk    ct      us   \n",
       "\n",
       "    latitude   longitude     shape  \\\n",
       "0  29.883056  -97.941111  cylinder   \n",
       "3  28.978333  -96.645833    circle   \n",
       "4  21.418056 -157.803611     light   \n",
       "5  36.595000  -82.188889    sphere   \n",
       "7  41.117500  -73.408333      disk   \n",
       "\n",
       "                                            comments  \n",
       "0  This event took place in early fall around 194...  \n",
       "3  My older brother and twin sister were leaving ...  \n",
       "4  AS a Marine 1st Lt. flying an FJ4B fighter/att...  \n",
       "5  My father is now 89 my brother 52 the girl wit...  \n",
       "7  A bright orange color changing to reddish colo...  "
      ]
     },
     "execution_count": 16,
     "metadata": {},
     "output_type": "execute_result"
    }
   ],
   "source": [
    "data.head()"
   ]
  },
  {
   "cell_type": "code",
   "execution_count": 17,
   "id": "fb15bf22",
   "metadata": {},
   "outputs": [
    {
     "name": "stdout",
     "output_type": "stream",
     "text": [
      "<class 'pandas.core.frame.DataFrame'>\n",
      "Int64Index: 66516 entries, 0 to 80331\n",
      "Data columns (total 9 columns):\n",
      " #   Column              Non-Null Count  Dtype         \n",
      "---  ------              --------------  -----         \n",
      " 0   timestamp           66516 non-null  datetime64[ns]\n",
      " 1   duration (seconds)  66516 non-null  int64         \n",
      " 2   city                66516 non-null  object        \n",
      " 3   state               66516 non-null  object        \n",
      " 4   country             66516 non-null  object        \n",
      " 5   latitude            66516 non-null  float64       \n",
      " 6   longitude           66516 non-null  float64       \n",
      " 7   shape               66516 non-null  object        \n",
      " 8   comments            66516 non-null  object        \n",
      "dtypes: datetime64[ns](1), float64(2), int64(1), object(5)\n",
      "memory usage: 5.1+ MB\n"
     ]
    }
   ],
   "source": [
    "data.info()"
   ]
  },
  {
   "cell_type": "code",
   "execution_count": 22,
   "id": "2a16f6ac",
   "metadata": {},
   "outputs": [],
   "source": [
    "# convert the dataframe to a json file of dict of lists\n",
    "json_data = pd.io.json.dumps(data.to_dict(orient='list'))\n",
    "with open(\"./Resources/data.json\", \"w\") as outfile:\n",
    "    outfile.write(json_data)"
   ]
  },
  {
   "cell_type": "code",
   "execution_count": 20,
   "id": "428c0205",
   "metadata": {},
   "outputs": [],
   "source": [
    "data.to_csv(\"./Resources/data.csv\")"
   ]
  },
  {
   "cell_type": "code",
   "execution_count": null,
   "id": "38f623b4",
   "metadata": {},
   "outputs": [],
   "source": []
  }
 ],
 "metadata": {
  "kernelspec": {
   "display_name": "Python 3 (ipykernel)",
   "language": "python",
   "name": "python3"
  },
  "language_info": {
   "codemirror_mode": {
    "name": "ipython",
    "version": 3
   },
   "file_extension": ".py",
   "mimetype": "text/x-python",
   "name": "python",
   "nbconvert_exporter": "python",
   "pygments_lexer": "ipython3",
   "version": "3.10.11"
  }
 },
 "nbformat": 4,
 "nbformat_minor": 5
}
